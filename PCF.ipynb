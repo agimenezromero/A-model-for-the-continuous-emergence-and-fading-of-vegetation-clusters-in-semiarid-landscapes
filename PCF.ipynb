{
 "cells": [
  {
   "cell_type": "code",
   "execution_count": 1,
   "id": "37cd1c39-7ed2-4981-ba6c-dd26f0d03599",
   "metadata": {},
   "outputs": [],
   "source": [
    "using Statistics\n",
    "using Printf\n",
    "using Plots\n",
    "using LinearAlgebra\n",
    "\n",
    "using DelimitedFiles\n",
    "\n",
    "using Base.Threads"
   ]
  },
  {
   "cell_type": "code",
   "execution_count": 2,
   "id": "002f3267-0015-406a-b979-24ef29a2eb4d",
   "metadata": {},
   "outputs": [
    {
     "data": {
      "text/plain": [
       "compute_pcf (generic function with 1 method)"
      ]
     },
     "metadata": {},
     "output_type": "display_data"
    }
   ],
   "source": [
    "function compute_pcf(xs, ys, xi_ar, dxi; Lx::Float64=maximum(xs)-minimum(xs), Ly::Float64=maximum(ys)-minimum(ys))\n",
    "\n",
    "    N = length(xs)\n",
    "    nb = length(xi_ar)\n",
    "    counts_t = zeros(Float64, nb, nthreads())\n",
    "\n",
    "    r_min = xi_ar[1] - dxi / 2\n",
    "    r_max = xi_ar[end] + dxi / 2\n",
    "    r0 = xi_ar[1] - dxi / 2\n",
    "\n",
    "    @threads for i in 1:N-1\n",
    "        xi = xs[i]\n",
    "        yi = ys[i]\n",
    "        for j in i+1:N\n",
    "            dx = xs[j] - xi\n",
    "            dy = ys[j] - yi\n",
    "\n",
    "            # Apply periodic boundary conditions\n",
    "            dx -= Lx * round(dx / Lx)\n",
    "            dy -= Ly * round(dy / Ly)\n",
    "\n",
    "            r = hypot(dx, dy)\n",
    "            if (r >= r_min) && (r < r_max)\n",
    "                k = Int(floor((r - r0) / dxi)) + 1\n",
    "                if 1 <= k <= nb\n",
    "                    counts_t[k, threadid()] += 2.0  # *2 for ordered pairs\n",
    "                end\n",
    "            end\n",
    "        end\n",
    "    end\n",
    "\n",
    "    counts = sum(counts_t; dims=2)[:]\n",
    "    pcf = similar(counts)\n",
    "    area = Lx * Ly\n",
    "    pair_factor = N * (N - 1)\n",
    "    area_pref = 2π * dxi / area\n",
    "\n",
    "    @inbounds for k in 1:nb\n",
    "        r = xi_ar[k]\n",
    "        den = pair_factor * (area_pref * r)\n",
    "        pcf[k] = den > 0 ? counts[k] / den : NaN\n",
    "    end\n",
    "\n",
    "    return pcf\n",
    "end"
   ]
  },
  {
   "cell_type": "markdown",
   "id": "4d755323",
   "metadata": {},
   "source": [
    "# Horshoe bend PCF"
   ]
  },
  {
   "cell_type": "code",
   "execution_count": null,
   "id": "77905a7c",
   "metadata": {},
   "outputs": [
    {
     "name": "stdout",
     "output_type": "stream",
     "text": [
      "Domain L = 1000.000, Δr = 2.000, #bins = 50\n"
     ]
    }
   ],
   "source": [
    "input_path = \"coordinates_samples/horshoe_bend_07_2019_coords_sample.txt\"  # your coordinate file\n",
    "\n",
    "coords = readdlm(input_path)\n",
    "\n",
    "xs = coords[:, 1]\n",
    "ys = coords[:, 2]\n",
    "\n",
    "r_max = 100.0  # maximum radius to consider\n",
    "dr = 2       # radial bin width\n",
    "\n",
    "L = 1000.0  # box size\n",
    "\n",
    "# Radial bins\n",
    "r_ar = collect(dr/2:dr:r_max)\n",
    "\n",
    "@printf(\"Domain L = %.3f, Δr = %.3f, #bins = %d\\n\", L, dr, length(r_ar))\n",
    "\n",
    "# Compute PCF\n",
    "g = compute_pcf(xs, ys, r_ar, dr; Lx=L, Ly=L)\n",
    "\n",
    "# Save output\n",
    "# open(\"horshoe_bend_07_2019_pcf.csv\", \"w\") do io\n",
    "#     println(io, \"r,g\")\n",
    "#     @inbounds for k in 1:length(r_ar)\n",
    "#         @printf(io, \"%.6f,%.6f\\n\", r_ar[k], g[k])\n",
    "#     end\n",
    "# end"
   ]
  },
  {
   "cell_type": "code",
   "execution_count": null,
   "id": "0fe7d8e7",
   "metadata": {},
   "outputs": [],
   "source": [
    "plot(xi_ar, g, xlabel=\"r\", ylabel=\"g(r)\", title=\"Pair-Correlation Function\", legend=false)"
   ]
  },
  {
   "cell_type": "markdown",
   "id": "869823d4",
   "metadata": {},
   "source": [
    "# Big system simulation"
   ]
  },
  {
   "cell_type": "code",
   "execution_count": null,
   "id": "83d7c76f",
   "metadata": {},
   "outputs": [],
   "source": [
    "input_path = \"big_system/P_58.008530460617.txt\"  # your coordinate file\n",
    "\n",
    "coords = readdlm(input_path)\n",
    "\n",
    "xs = coords[1, :]\n",
    "ys = coords[2, :]\n",
    "\n",
    "r_max = 10.0  # maximum radius to consider\n",
    "dr = 0.1       # radial bin width\n",
    "\n",
    "@time xi_ar, g = compute_pcf_f(xs, ys, r_max, dr);\n",
    "\n",
    "# Save output\n",
    "open(\"big_system_pcf.csv\", \"w\") do io\n",
    "    println(io, \"r,g\")\n",
    "    @inbounds for k in 1:length(xi_ar)\n",
    "        @printf(io, \"%.6f,%.6f\\n\", xi_ar[k], g[k])\n",
    "    end\n",
    "end\n",
    "println(\"Wrote big_system_pcf.csv\")"
   ]
  },
  {
   "cell_type": "code",
   "execution_count": null,
   "id": "13a2449d",
   "metadata": {},
   "outputs": [],
   "source": [
    "plot(xi_ar, g, xlabel=\"r\", ylabel=\"g(r)\", title=\"Pair-Correlation Function\", legend=false)"
   ]
  }
 ],
 "metadata": {
  "kernelspec": {
   "display_name": "Julia 1.9.2",
   "language": "julia",
   "name": "julia-1.9"
  },
  "language_info": {
   "file_extension": ".jl",
   "mimetype": "application/julia",
   "name": "julia",
   "version": "1.9.2"
  }
 },
 "nbformat": 4,
 "nbformat_minor": 5
}
